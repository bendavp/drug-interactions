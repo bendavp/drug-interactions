{
 "cells": [
  {
   "cell_type": "code",
   "execution_count": 14,
   "metadata": {},
   "outputs": [
    {
     "name": "stdout",
     "output_type": "stream",
     "text": [
      "       # Disease(MESH) Chemical\n",
      "0         MESH:D005923  DB00564\n",
      "1         MESH:D009503  DB01072\n",
      "2         MESH:D016115  DB01759\n",
      "3         MESH:D018476  DB00451\n",
      "4         MESH:C567059  DB00641\n",
      "...                ...      ...\n",
      "466652    MESH:C565545  DB00482\n",
      "466653    MESH:D009164  DB00977\n",
      "466654    MESH:D010518  DB04216\n",
      "466655    MESH:D002653  DB02701\n",
      "466656    MESH:D013119  DB04465\n",
      "\n",
      "[466657 rows x 2 columns]\n"
     ]
    }
   ],
   "source": [
    "import pandas as pd\n",
    "import csv \n",
    "import os\n",
    "import sys\n",
    "import gzip\n",
    "\n",
    "\n",
    "\n",
    "\n",
    "dd = pd.read_csv('DCh-Miner_miner-disease-chemical.tsv.gz', sep='\\t')\n",
    "print(dd)\n",
    "\n"
   ]
  },
  {
   "cell_type": "code",
   "execution_count": 10,
   "metadata": {},
   "outputs": [],
   "source": [
    "import gzip\n",
    "with gzip.open('DCh-Miner_miner-disease-chemical.tsv.gz','rt' ) as dis_d:\n",
    "    dis_d1 = dis_d.read()\n",
    "    ##print(diseaseDrug.read())\n",
    "    with open('DCh-Miner_miner-disease-chemical.tsv.gz'[:-3] ,'wt') as dis_d:\n",
    "        dis_d.write(dis_d1)\n"
   ]
  },
  {
   "cell_type": "code",
   "execution_count": 17,
   "metadata": {},
   "outputs": [
    {
     "name": "stdout",
     "output_type": "stream",
     "text": [
      "           # STITCH 1      STITCH 2 Polypharmacy Side Effect  \\\n",
      "0        CID000002173  CID000003345                 C0151714   \n",
      "1        CID000002173  CID000003345                 C0035344   \n",
      "2        CID000002173  CID000003345                 C0004144   \n",
      "3        CID000002173  CID000003345                 C0002063   \n",
      "4        CID000002173  CID000003345                 C0004604   \n",
      "...               ...           ...                      ...   \n",
      "4649436  CID000003461  CID000003954                 C0149871   \n",
      "4649437  CID000003461  CID000003954                 C0035410   \n",
      "4649438  CID000003461  CID000003954                 C0043096   \n",
      "4649439  CID000003461  CID000003954                 C0003962   \n",
      "4649440  CID000003461  CID000003954                 C0038999   \n",
      "\n",
      "                   Side Effect Name  \n",
      "0                   hypermagnesemia  \n",
      "1        retinopathy of prematurity  \n",
      "2                       atelectasis  \n",
      "3                         alkalosis  \n",
      "4                         Back Ache  \n",
      "...                             ...  \n",
      "4649436        deep vein thromboses  \n",
      "4649437              rhabdomyolysis  \n",
      "4649438              loss of weight  \n",
      "4649439                     ascites  \n",
      "4649440                     bulging  \n",
      "\n",
      "[4649441 rows x 4 columns]\n"
     ]
    }
   ],
   "source": [
    "import pandas as pd\n",
    "se1 = pd.read_csv('ChChSe-Decagon_polypharmacy.csv.gz',sep=',') \n",
    "print(se1)\n"
   ]
  },
  {
   "cell_type": "code",
   "execution_count": 19,
   "metadata": {},
   "outputs": [],
   "source": [
    "# too big, given its own file\n",
    "\n",
    "#import gzip\n",
    "#with gzip.open('ChChSe-Decagon_polypharmacy.csv.gz','rt' ) as s_e:\n",
    " #   se = s_e.read()\n",
    "  #  with open('ChChSe-Decagon_polypharmacy.csv.gz'[:-3] ,'wt') as s_e:\n",
    "   #     s_e.write(se)"
   ]
  },
  {
   "cell_type": "code",
   "execution_count": 7,
   "metadata": {},
   "outputs": [
    {
     "name": "stdout",
     "output_type": "stream",
     "text": [
      "            # STITCH Individual Side Effect  \\\n",
      "0       CID003062316               C1096328   \n",
      "1       CID003062316               C0162830   \n",
      "2       CID003062316               C1611725   \n",
      "3       CID003062316               C0541767   \n",
      "4       CID003062316               C0242973   \n",
      "...              ...                    ...   \n",
      "174972  CID005282226               C1096278   \n",
      "174973  CID005282226               C0272412   \n",
      "174974  CID005282226               C0860013   \n",
      "174975  CID005282226               C0853225   \n",
      "174976  CID005282226               C1112371   \n",
      "\n",
      "                                Side Effect Name  \n",
      "0                    central nervous system mass  \n",
      "1                      Photosensitivity reaction  \n",
      "2                   leukaemic infiltration brain  \n",
      "3                 platelet adhesiveness abnormal  \n",
      "4                        Ventricular dysfunction  \n",
      "...                                          ...  \n",
      "174972             anterior chamber inflammation  \n",
      "174973                           splenic abscess  \n",
      "174974             hepatitis b antibody positive  \n",
      "174975  international normalised ratio increased  \n",
      "174976             Anterior chamber pigmentation  \n",
      "\n",
      "[174977 rows x 3 columns]\n"
     ]
    }
   ],
   "source": [
    "dd_se1 = pd.read_csv('ChSe-Decagon_monopharmacy.csv.gz',sep=',' ) \n",
    "print(dd_se1)\n",
    "\n",
    " "
   ]
  },
  {
   "cell_type": "code",
   "execution_count": 16,
   "metadata": {},
   "outputs": [],
   "source": [
    "import gzip\n",
    "with gzip.open('ChSe-Decagon_monopharmacy.csv.gz','rt' ) as ddse:\n",
    "    dd_se = ddse.read()\n",
    "    with open('ChSe-Decagon_monopharmacy.csv.gz'[:-3] ,'wt') as ddse:\n",
    "        ddse.write(dd_se)\n",
    " "
   ]
  },
  {
   "cell_type": "code",
   "execution_count": null,
   "metadata": {},
   "outputs": [],
   "source": []
  }
 ],
 "metadata": {
  "kernelspec": {
   "display_name": "Python 3",
   "language": "python",
   "name": "python3"
  },
  "language_info": {
   "codemirror_mode": {
    "name": "ipython",
    "version": 3
   },
   "file_extension": ".py",
   "mimetype": "text/x-python",
   "name": "python",
   "nbconvert_exporter": "python",
   "pygments_lexer": "ipython3",
   "version": "3.8.5"
  }
 },
 "nbformat": 4,
 "nbformat_minor": 4
}
